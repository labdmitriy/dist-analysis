{
 "cells": [
  {
   "cell_type": "code",
   "execution_count": 3,
   "id": "5cd7f4c6-9b19-4d74-871b-4f8924f226d4",
   "metadata": {},
   "outputs": [],
   "source": [
    "%load_ext autoreload\n",
    "%autoreload 2"
   ]
  },
  {
   "cell_type": "code",
   "execution_count": 4,
   "id": "131a6653-891d-4d9a-884a-42a6cc30f35e",
   "metadata": {},
   "outputs": [],
   "source": [
    "from pathlib import Path\n",
    "import string\n",
    "import time\n",
    "\n",
    "import numpy as np\n",
    "import pandas as pd\n",
    "\n",
    "from dist_analysis.stats import (check_alternative_urls,\n",
    "                                 get_distribution_info,\n",
    "                                 get_distribution_update_stats,\n",
    "                                 get_distributions_list,\n",
    "                                 get_names_stats)\n",
    "from dist_analysis.visualization import (plot_names_with_punctuation_venn,\n",
    "                                         plot_names_with_punctuation_upset)"
   ]
  },
  {
   "cell_type": "code",
   "execution_count": 5,
   "id": "510a88da-29f2-425e-aae6-ece89a89e465",
   "metadata": {},
   "outputs": [],
   "source": [
    "IMAGE_DATA_PATH = Path('../images')\n",
    "\n",
    "base_url = 'https://pypi.python.org/pypi'"
   ]
  },
  {
   "cell_type": "markdown",
   "id": "ed584043-286e-4cce-8f5a-9b2ed1f5ee9e",
   "metadata": {},
   "source": [
    "### Get list of all packages"
   ]
  },
  {
   "cell_type": "code",
   "execution_count": 4,
   "id": "f3d49b0d-fd08-4cf1-b562-b0d30f13bf99",
   "metadata": {},
   "outputs": [
    {
     "name": "stdout",
     "output_type": "stream",
     "text": [
      "378520\n"
     ]
    }
   ],
   "source": [
    "distributions = get_distributions_list(base_url)\n",
    "distributions_count = len(distributions)\n",
    "print(distributions_count)"
   ]
  },
  {
   "cell_type": "markdown",
   "id": "fd7d5523-00c8-4331-baa7-fcb66297b157",
   "metadata": {},
   "source": [
    "### Find all used chars in distributions names"
   ]
  },
  {
   "cell_type": "code",
   "execution_count": 5,
   "id": "ada99d0b-e6f0-46cb-a4df-f68a7c87623f",
   "metadata": {},
   "outputs": [
    {
     "name": "stdout",
     "output_type": "stream",
     "text": [
      "-.0123456789ABCDEFGHIJKLMNOPQRSTUVWXYZ_abcdefghijklmnopqrstuvwxyz\n"
     ]
    }
   ],
   "source": [
    "name_chars = set(''.join(distributions))\n",
    "print(''.join(sorted(name_chars)))"
   ]
  },
  {
   "cell_type": "markdown",
   "id": "afcf7df7-f554-4139-bd5c-96d4fb754fcf",
   "metadata": {},
   "source": [
    "### Get stats for different package name types"
   ]
  },
  {
   "cell_type": "code",
   "execution_count": 6,
   "id": "f0da322b-b86b-4696-84f0-e91a010da841",
   "metadata": {},
   "outputs": [],
   "source": [
    "no_char = set()\n",
    "hyphen = set('-')\n",
    "underscore = set('_')\n",
    "dot = set('.')\n",
    "punctuation = hyphen | underscore | dot\n",
    "digits = set(string.digits)\n",
    "letters = set(string.ascii_letters)"
   ]
  },
  {
   "cell_type": "markdown",
   "id": "71c22fb1-9c65-4492-9dea-9a802cf24ff5",
   "metadata": {},
   "source": [
    "**Only letters**"
   ]
  },
  {
   "cell_type": "code",
   "execution_count": 7,
   "id": "ab48874e-29b5-4b0c-9d63-06d900872343",
   "metadata": {},
   "outputs": [
    {
     "name": "stdout",
     "output_type": "stream",
     "text": [
      "Possible chars: ABCDEFGHIJKLMNOPQRSTUVWXYZabcdefghijklmnopqrstuvwxyz\n",
      "Required chars: \n",
      "Names count: 178713\n",
      "Names proportion: 0.47214\n",
      "Examples: ['vhmap', 'tuxbuild', 'WordPressAutoPost']\n",
      "\n"
     ]
    }
   ],
   "source": [
    "names_letters = get_names_stats(distributions, letters)"
   ]
  },
  {
   "cell_type": "markdown",
   "id": "72d2366b-8cb1-408b-b6b3-841a98e0c86f",
   "metadata": {},
   "source": [
    "**Only digits**"
   ]
  },
  {
   "cell_type": "code",
   "execution_count": 8,
   "id": "531f7f79-5ff8-448e-b54b-b03dd87c0464",
   "metadata": {},
   "outputs": [
    {
     "name": "stdout",
     "output_type": "stream",
     "text": [
      "Possible chars: 0123456789\n",
      "Required chars: \n",
      "Names count: 50\n",
      "Names proportion: 0.00013\n",
      "Examples: ['233', '31', '2021']\n",
      "\n"
     ]
    }
   ],
   "source": [
    "names_digits = get_names_stats(distributions, digits)"
   ]
  },
  {
   "cell_type": "markdown",
   "id": "ab40c9ff-d798-47c8-9a7f-55ecf7acbe0d",
   "metadata": {},
   "source": [
    "**Only punctuation**"
   ]
  },
  {
   "cell_type": "code",
   "execution_count": 9,
   "id": "75abe574-105b-4219-b820-355dc509823f",
   "metadata": {},
   "outputs": [
    {
     "name": "stdout",
     "output_type": "stream",
     "text": [
      "Possible chars: -._\n",
      "Required chars: \n",
      "Names count: 0\n",
      "Names proportion: 0.00000\n",
      "\n"
     ]
    }
   ],
   "source": [
    "names_punctuation = get_names_stats(distributions, punctuation)"
   ]
  },
  {
   "cell_type": "markdown",
   "id": "c3d52f51-d15e-47ed-92e8-757f201fe032",
   "metadata": {},
   "source": [
    "**Letters and digits**"
   ]
  },
  {
   "cell_type": "code",
   "execution_count": 10,
   "id": "82bd75cd-f888-4093-849d-9821e2465f63",
   "metadata": {},
   "outputs": [
    {
     "name": "stdout",
     "output_type": "stream",
     "text": [
      "Possible chars: 0123456789ABCDEFGHIJKLMNOPQRSTUVWXYZabcdefghijklmnopqrstuvwxyz\n",
      "Required chars: \n",
      "Names count: 192944\n",
      "Names proportion: 0.50973\n",
      "Examples: ['harrpy', 'logconf', 'irate']\n",
      "\n"
     ]
    }
   ],
   "source": [
    "letters_digits = letters | digits\n",
    "names_letters_digits = get_names_stats(distributions, letters_digits)"
   ]
  },
  {
   "cell_type": "markdown",
   "id": "0ae20dc2-cea8-4bf4-a674-332c20ddca0b",
   "metadata": {},
   "source": [
    "**Letters and punctuation**"
   ]
  },
  {
   "cell_type": "code",
   "execution_count": 11,
   "id": "272ab037-b50b-4106-9b45-995edaa1b1ed",
   "metadata": {},
   "outputs": [
    {
     "name": "stdout",
     "output_type": "stream",
     "text": [
      "Possible chars: -.ABCDEFGHIJKLMNOPQRSTUVWXYZ_abcdefghijklmnopqrstuvwxyz\n",
      "Required chars: \n",
      "Names count: 336940\n",
      "Names proportion: 0.89015\n",
      "Examples: ['python-keepachangelog', 'aomi', 'pylibimport']\n",
      "\n"
     ]
    }
   ],
   "source": [
    "letters_punctuation = letters | punctuation\n",
    "names_letters_punctuation = get_names_stats(distributions, letters_punctuation)"
   ]
  },
  {
   "cell_type": "markdown",
   "id": "4125e001-029b-483e-bef7-c95620384f61",
   "metadata": {},
   "source": [
    "**With hyphens**"
   ]
  },
  {
   "cell_type": "code",
   "execution_count": 12,
   "id": "b5e8122f-e4ae-4481-88df-987d8be9e114",
   "metadata": {},
   "outputs": [
    {
     "name": "stdout",
     "output_type": "stream",
     "text": [
      "Possible chars: -.0123456789ABCDEFGHIJKLMNOPQRSTUVWXYZ_abcdefghijklmnopqrstuvwxyz\n",
      "Required chars: -\n",
      "Names count: 163057\n",
      "Names proportion: 0.43078\n",
      "Examples: ['video-collage', 'leabra-psyneulink', 'yt-download']\n",
      "\n"
     ]
    }
   ],
   "source": [
    "names_with_hyphens = get_names_stats(distributions, name_chars, required_chars=hyphen)"
   ]
  },
  {
   "cell_type": "markdown",
   "id": "cae8f9af-1db9-47bf-97af-eae63e49e2af",
   "metadata": {},
   "source": [
    "**With underscores**"
   ]
  },
  {
   "cell_type": "code",
   "execution_count": 13,
   "id": "f46e9384-2d2a-4657-a7a6-b17e4d5aacfe",
   "metadata": {},
   "outputs": [
    {
     "name": "stdout",
     "output_type": "stream",
     "text": [
      "Possible chars: -.0123456789ABCDEFGHIJKLMNOPQRSTUVWXYZ_abcdefghijklmnopqrstuvwxyz\n",
      "Required chars: _\n",
      "Names count: 11203\n",
      "Names proportion: 0.02960\n",
      "Examples: ['simple_ci', 'demo_pkg_lfr', 'nest_pf']\n",
      "\n"
     ]
    }
   ],
   "source": [
    "names_with_underscores = get_names_stats(distributions, name_chars, required_chars=underscore)"
   ]
  },
  {
   "cell_type": "markdown",
   "id": "f9a33fcd-639b-442e-898d-271026021620",
   "metadata": {},
   "source": [
    "**With dots**"
   ]
  },
  {
   "cell_type": "code",
   "execution_count": 14,
   "id": "293a4d22-9c4a-4069-91eb-343f79e71a38",
   "metadata": {},
   "outputs": [
    {
     "name": "stdout",
     "output_type": "stream",
     "text": [
      "Possible chars: -.0123456789ABCDEFGHIJKLMNOPQRSTUVWXYZ_abcdefghijklmnopqrstuvwxyz\n",
      "Required chars: .\n",
      "Names count: 13721\n",
      "Names proportion: 0.03625\n",
      "Examples: ['kss.django', 'cloudsnorkel.cdk-github-runners', 'mpdg.govbr.observatorio']\n",
      "\n"
     ]
    }
   ],
   "source": [
    "names_with_dots = get_names_stats(distributions, name_chars, required_chars=dot)"
   ]
  },
  {
   "cell_type": "markdown",
   "id": "431db409-dc94-466d-abae-88a3b85d69c1",
   "metadata": {},
   "source": [
    "**With only hyphens**"
   ]
  },
  {
   "cell_type": "code",
   "execution_count": 15,
   "id": "aa0b928e-acbb-4ccb-97cf-3a8a9e739a9f",
   "metadata": {},
   "outputs": [
    {
     "name": "stdout",
     "output_type": "stream",
     "text": [
      "Possible chars: -0123456789ABCDEFGHIJKLMNOPQRSTUVWXYZabcdefghijklmnopqrstuvwxyz\n",
      "Required chars: -\n",
      "Names count: 161045\n",
      "Names proportion: 0.42546\n",
      "Examples: ['sentry-tablestore', 'requests-async-session', 'dash-loading-spinners']\n",
      "\n"
     ]
    }
   ],
   "source": [
    "names_with_only_hyphens = get_names_stats(distributions, letters_digits | hyphen, \n",
    "                                          required_chars=hyphen)"
   ]
  },
  {
   "cell_type": "markdown",
   "id": "69982139-8b0e-43b6-81be-b3e3a8a32492",
   "metadata": {},
   "source": [
    "**With only underscores**"
   ]
  },
  {
   "cell_type": "code",
   "execution_count": 16,
   "id": "ae55408f-d8f5-42ec-9e87-51bf0ba878c4",
   "metadata": {},
   "outputs": [
    {
     "name": "stdout",
     "output_type": "stream",
     "text": [
      "Possible chars: 0123456789ABCDEFGHIJKLMNOPQRSTUVWXYZ_abcdefghijklmnopqrstuvwxyz\n",
      "Required chars: _\n",
      "Names count: 10650\n",
      "Names proportion: 0.02814\n",
      "Examples: ['nextcloud_news_updater', 'nose_priority', 'dms_tools']\n",
      "\n"
     ]
    }
   ],
   "source": [
    "names_with_only_underscores = get_names_stats(distributions, letters_digits | underscore, \n",
    "                                              required_chars=underscore)"
   ]
  },
  {
   "cell_type": "markdown",
   "id": "9c5faa89-ff5c-48da-8ff5-d6bc5e0d4982",
   "metadata": {},
   "source": [
    "**With only dots**"
   ]
  },
  {
   "cell_type": "code",
   "execution_count": 17,
   "id": "ff344775-0ffb-469d-955f-ee732063912e",
   "metadata": {},
   "outputs": [
    {
     "name": "stdout",
     "output_type": "stream",
     "text": [
      "Possible chars: .0123456789ABCDEFGHIJKLMNOPQRSTUVWXYZabcdefghijklmnopqrstuvwxyz\n",
      "Required chars: .\n",
      "Names count: 11489\n",
      "Names proportion: 0.03035\n",
      "Examples: ['plone.introspector', 'RBX.py', 'danse.ins']\n",
      "\n"
     ]
    }
   ],
   "source": [
    "names_with_only_dots = get_names_stats(distributions, letters_digits | dot, \n",
    "                                       required_chars=dot)"
   ]
  },
  {
   "cell_type": "markdown",
   "id": "879ea0d4-c529-4961-bd9d-171e7ef69735",
   "metadata": {},
   "source": [
    "**With all punctuation**"
   ]
  },
  {
   "cell_type": "code",
   "execution_count": 18,
   "id": "9a2bbc0f-543f-45d4-bfd5-ab583ea6fc4a",
   "metadata": {},
   "outputs": [
    {
     "name": "stdout",
     "output_type": "stream",
     "text": [
      "Possible chars: -.0123456789ABCDEFGHIJKLMNOPQRSTUVWXYZ_abcdefghijklmnopqrstuvwxyz\n",
      "Required chars: -._\n",
      "Names count: 13\n",
      "Names proportion: 0.00003\n",
      "Examples: ['vision_utils-0.1.1', '0-._.-._.-._.-._.-._.-._.-0', 'sloth-ci.ext.docker_exec']\n",
      "\n"
     ]
    }
   ],
   "source": [
    "names_with_all_punctuation = get_names_stats(distributions, letters_digits | punctuation, \n",
    "                                             required_chars=punctuation)"
   ]
  },
  {
   "cell_type": "code",
   "execution_count": 19,
   "id": "91ba685f-9553-4ee1-b705-528985f04eaa",
   "metadata": {},
   "outputs": [
    {
     "data": {
      "text/plain": [
       "['sloth-ci.ext.docker_exec',\n",
       " '0-._.-._.-._.-._.-._.-._.-0',\n",
       " 'Dragon_Module.pre-Alpha',\n",
       " 'sloth-ci.ext.shields_io',\n",
       " 'repoze.who-use_beaker',\n",
       " 'sloth-ci.ext.file_logs',\n",
       " 'sloth-ci.ext.ssh_exec',\n",
       " 'motmot.realtime_image_analysis-ipp',\n",
       " 'sloth-ci.ext.build_email_notifications',\n",
       " 'sloth-ci.ext.openvz_exec',\n",
       " 'vision_utils-0.1.1',\n",
       " 'sloth-ci.ext.robots_txt',\n",
       " 'carson-tool.create_template']"
      ]
     },
     "execution_count": 19,
     "metadata": {},
     "output_type": "execute_result"
    }
   ],
   "source": [
    "names_with_all_punctuation"
   ]
  },
  {
   "cell_type": "markdown",
   "id": "c6f07fe1-228c-4dfd-87e5-deea60e3dbf5",
   "metadata": {},
   "source": [
    "### Visualize Python distribution names with punctuation"
   ]
  },
  {
   "cell_type": "code",
   "execution_count": 20,
   "id": "14c185b9-e27d-440b-ae79-7af852ea6289",
   "metadata": {},
   "outputs": [
    {
     "data": {
      "image/png": "[encoded data removed]",
      "text/plain": [
       "<Figure size 1008x1008 with 1 Axes>"
      ]
     },
     "metadata": {},
     "output_type": "display_data"
    }
   ],
   "source": [
    "diagram_file_path = IMAGE_DATA_PATH / 'names_with_punctuation_venn.png' \n",
    "\n",
    "plot_names_with_punctuation_venn(names_with_hyphens, names_with_underscores, names_with_dots,\n",
    "                                 image_file_path=diagram_file_path)"
   ]
  },
  {
   "cell_type": "code",
   "execution_count": 21,
   "id": "ce449405-cd4b-4e16-b083-4ed04bb0b137",
   "metadata": {},
   "outputs": [
    {
     "data": {
      "image/png": "[encoded data removed]",
      "text/plain": [
       "<Figure size 1152x576 with 4 Axes>"
      ]
     },
     "metadata": {
      "needs_background": "light"
     },
     "output_type": "display_data"
    }
   ],
   "source": [
    "diagram_file_path = IMAGE_DATA_PATH / 'names_with_punctuation_upset.png' \n",
    "\n",
    "plot_names_with_punctuation_upset(names_with_hyphens, names_with_underscores, names_with_dots,\n",
    "                                  image_file_path=diagram_file_path)"
   ]
  },
  {
   "cell_type": "markdown",
   "id": "17c42f2e-3d55-4d51-8930-ff2c18b8b44c",
   "metadata": {},
   "source": [
    "### Get package update statistics"
   ]
  },
  {
   "cell_type": "code",
   "execution_count": 22,
   "id": "f9b5b951-8b45-4cd5-bcce-547e65237b6f",
   "metadata": {},
   "outputs": [
    {
     "name": "stderr",
     "output_type": "stream",
     "text": [
      "100%|████████████████████████████████████████████████████████████████████████████████████████████████████████| 13/13 [00:05<00:00,  2.44it/s]\n"
     ]
    },
    {
     "data": {
      "text/plain": [
       "(11, 2)"
      ]
     },
     "execution_count": 22,
     "metadata": {},
     "output_type": "execute_result"
    }
   ],
   "source": [
    "distribution_update_stats, incorrect_distributions = get_distribution_update_stats(base_url, names_with_all_punctuation)\n",
    "len(distribution_update_stats), len(incorrect_distributions)"
   ]
  },
  {
   "cell_type": "code",
   "execution_count": 23,
   "id": "c289c5b8-ddec-4a4f-a575-dba2af62e551",
   "metadata": {},
   "outputs": [
    {
     "data": {
      "text/plain": [
       "repoze.who-use_beaker                    2009-12-08 15:36:32.669153+00:00\n",
       "motmot.realtime_image_analysis-ipp       2012-06-01 10:43:23.315136+00:00\n",
       "sloth-ci.ext.docker_exec                 2016-02-21 14:10:14.466712+00:00\n",
       "sloth-ci.ext.file_logs                   2016-02-21 14:11:41.123975+00:00\n",
       "sloth-ci.ext.openvz_exec                 2016-02-21 14:12:56.365206+00:00\n",
       "sloth-ci.ext.robots_txt                  2016-02-21 14:13:20.135383+00:00\n",
       "sloth-ci.ext.ssh_exec                    2016-02-21 14:13:52.543088+00:00\n",
       "sloth-ci.ext.shields_io                  2016-03-17 11:10:23.393115+00:00\n",
       "sloth-ci.ext.build_email_notifications   2016-03-18 23:17:22.851842+00:00\n",
       "vision_utils-0.1.1                       2019-05-08 19:25:20.515623+00:00\n",
       "carson-tool.create_template              2019-10-29 10:46:27.996564+00:00\n",
       "dtype: datetime64[ns, tzutc()]"
      ]
     },
     "execution_count": 23,
     "metadata": {},
     "output_type": "execute_result"
    }
   ],
   "source": [
    "distribution_stats = pd.Series(distribution_update_stats)\n",
    "distribution_stats.sort_values()"
   ]
  },
  {
   "cell_type": "code",
   "execution_count": 24,
   "id": "c8620f0b-7c72-41eb-81c6-2b7564c0bed1",
   "metadata": {},
   "outputs": [
    {
     "data": {
      "text/plain": [
       "{'0-._.-._.-._.-._.-._.-._.-0': IndexError('list index out of range'),\n",
       " 'Dragon_Module.pre-Alpha': requests.exceptions.HTTPError('404 Client Error: Not Found for url: https://pypi.org/pypi/Dragon_Module.pre-Alpha/json')}"
      ]
     },
     "execution_count": 24,
     "metadata": {},
     "output_type": "execute_result"
    }
   ],
   "source": [
    "incorrect_distributions"
   ]
  },
  {
   "cell_type": "markdown",
   "id": "3c649b4b-ecbd-40b1-8b0a-5f282e3ac483",
   "metadata": {},
   "source": [
    "### Check URL variants"
   ]
  },
  {
   "cell_type": "markdown",
   "id": "ac1077ea-23f3-4dc0-91a0-18c41e0aea06",
   "metadata": {},
   "source": [
    "**reorder_python_import**"
   ]
  },
  {
   "cell_type": "code",
   "execution_count": 15,
   "id": "d522932b-e39b-4a27-ac39-fa7f62830923",
   "metadata": {},
   "outputs": [
    {
     "data": {
      "text/plain": [
       "'reorder_python_imports'"
      ]
     },
     "execution_count": 15,
     "metadata": {},
     "output_type": "execute_result"
    }
   ],
   "source": [
    "distribution_name = 'reorder_python_imports'\n",
    "distribution_name"
   ]
  },
  {
   "cell_type": "code",
   "execution_count": 16,
   "id": "f13de1de-bcff-4d52-bc3c-017512066e7f",
   "metadata": {},
   "outputs": [
    {
     "data": {
      "text/plain": [
       "{'author': 'Anthony Sottile',\n",
       " 'author_email': 'asottile@umich.edu',\n",
       " 'bugtrack_url': None,\n",
       " 'classifiers': ['License :: OSI Approved :: MIT License',\n",
       "  'Programming Language :: Python :: 3',\n",
       "  'Programming Language :: Python :: 3 :: Only',\n",
       "  'Programming Language :: Python :: 3.7',\n",
       "  'Programming Language :: Python :: 3.8',\n",
       "  'Programming Language :: Python :: 3.9',\n",
       "  'Programming Language :: Python :: 3.10',\n",
       "  'Programming Language :: Python :: Implementation :: CPython',\n",
       "  'Programming Language :: Python :: Implementation :: PyPy'],\n",
       " 'description': '[![Build Status](https://dev.azure.com/asottile/asottile/_apis/build/status/asottile.reorder_python_imports?branchName=main)](https://dev.azure.com/asottile/asottile/_build/latest?definitionId=28&branchName=main)\\n[![Azure DevOps coverage](https://img.shields.io/azure-devops/coverage/asottile/asottile/28/main.svg)](https://dev.azure.com/asottile/asottile/_build/latest?definitionId=28&branchName=main)\\n[![pre-commit.ci status](https://results.pre-commit.ci/badge/github/asottile/reorder_python_imports/main.svg)](https://results.pre-commit.ci/latest/github/asottile/reorder_python_imports/main)\\n\\nreorder_python_imports\\n======================\\n\\nTool for automatically reordering python imports.  Similar to `isort` but\\nuses static analysis more.\\n\\n\\n## Installation\\n\\n`pip install reorder-python-imports`\\n\\n\\n## Console scripts\\n\\nConsult `reorder-python-imports --help` for the full set of options.\\n\\n`reorder-python-imports` takes filenames as positional arguments\\n\\nCommon options:\\n\\n- `--py##-plus`: [see below](#removing-obsolete-__future__-imports).\\n- `--add-import` / `--remove-import`: [see below](#adding--removing-imports).\\n- `--replace-import`: [see below](#replacing-imports).\\n- `--application-directories`: by default, `reorder-python-imports` assumes\\n  your project is rooted at `.`.  If this isn\\'t true, tell it where your\\n  import roots live.  For example, when using the popular `./src` layout you\\'d\\n  use `--application-directories=.:src` (note: multiple paths are separated\\n  using a `:`).\\n- `--unclassifiable-application-module`: (may be specified multiple times)\\n  modules names that are considered application modules.  this setting is\\n  intended to be used for things like C modules which may not always appear on\\n  the filesystem.\\n\\n## As a pre-commit hook\\n\\nSee [pre-commit](https://github.com/pre-commit/pre-commit) for instructions\\n\\nSample `.pre-commit-config.yaml`\\n\\n```yaml\\n-   repo: https://github.com/asottile/reorder_python_imports\\n    rev: v3.1.0\\n    hooks:\\n    -   id: reorder-python-imports\\n```\\n\\n## What does it do?\\n\\n### Separates imports into three sections\\n\\n```python\\nimport sys\\nimport pyramid\\nimport reorder_python_imports\\n```\\n\\nbecomes (stdlib, third party, first party)\\n\\n```python\\nimport sys\\n\\nimport pyramid\\n\\nimport reorder_python_imports\\n```\\n\\n### `import` imports before `from` imports\\n\\n```python\\nfrom os import path\\nimport sys\\n```\\n\\nbecomes\\n\\n```python\\nimport sys\\nfrom os import path\\n```\\n\\n### Splits `from` imports\\n\\n```python\\nfrom os.path import abspath, exists\\n```\\n\\nbecomes\\n\\n```python\\nfrom os.path import abspath\\nfrom os.path import exists\\n```\\n\\n### Removes duplicate imports\\n\\n```python\\nimport os\\nimport os.path\\nimport sys\\nimport sys\\n```\\n\\nbecomes\\n\\n```python\\nimport os.path\\nimport sys\\n```\\n\\n## Using `# noreorder`\\n\\nLines containing and after lines which contain a `# noreorder` comment will\\nbe ignored.  Additionally any imports that appear after non-whitespace\\nnon-comment lines will be ignored.\\n\\nFor instance, these will not be changed:\\n\\n```python\\nimport sys\\n\\ntry:  # not import, not whitespace\\n    import foo\\nexcept ImportError:\\n    pass\\n```\\n\\n\\n```python\\nimport sys\\n\\nimport reorder_python_imports\\n\\nimport matplotlib  # noreorder\\nmatplotlib.use(\\'Agg\\')\\nimport matplotlib.pyplot as plt\\n```\\n\\n```python\\n# noreorder\\nimport sys\\nimport pyramid\\nimport reorder_python_imports\\n```\\n\\n## why this style?\\n\\nThe style chosen by `reorder-python-imports` has a single aim: reduce merge\\nconflicts.\\n\\nBy having a single import per line, multiple contributors can\\nadd / remove imports from a single module without resulting in a conflict.\\n\\nConsider the following example which causes a merge conflict:\\n\\n```diff\\n# developer 1\\n-from typing import Dict, List\\n+from typing import Any, Dict, List\\n```\\n\\n```diff\\n# developer 2\\n-from typing import Dict, List\\n+from typing import Dict, List, Tuple\\n```\\n\\nno conflict with the style enforced by `reorder-python-imports`:\\n\\n```diff\\n+from typing import Any\\n from typing import Dict\\n from typing import List\\n+from typing import Tuple\\n```\\n\\n## Adding / Removing Imports\\n\\nLet\\'s say I want to enforce `absolute_import` across my codebase.  I can use:\\n`--add-import \\'from __future__ import absolute_import\\'`.\\n\\n```console\\n$ cat test.py\\nprint(\\'Hello world\\')\\n$ reorder-python-imports --add-import \\'from __future__ import absolute_import\\' test.py\\nReordering imports in test.py\\n$ cat test.py\\nfrom __future__ import absolute_import\\nprint(\\'Hello world\\')\\n```\\n\\nLet\\'s say I no longer care about supporting Python 2.5, I can remove\\n`from __future__ import with_statement` with\\n`--remove-import \\'from __future__ import with_statement\\'`\\n\\n```console\\n$ cat test.py\\nfrom __future__ import with_statement\\nwith open(\\'foo.txt\\', \\'w\\') as foo_f:\\n    foo_f.write(\\'hello world\\')\\n$ reorder-python-imports --remove-import \\'from __future__ import with_statement\\' test.py\\nReordering imports in test.py\\n$ cat test.py\\nwith open(\\'foo.txt\\', \\'w\\') as foo_f:\\n    foo_f.write(\\'hello world\\')\\n```\\n\\n## Replacing imports\\n\\nImports can be replaced with others automatically (if they provide the same\\nnames).  This can be useful for factoring out compatibility libraries such\\nas `six` (see below for automated `six` rewriting).\\n\\nThis rewrite avoids `NameError`s as such it only occurs when:\\n\\n- the imported symbol is the same before and after\\n- the import is a `from` import\\n\\nThe argument is specified as `orig.mod=new.mod` or with an optional\\nchecked attribute `orig.mod=new.mod:attr`.  The checked attribute is useful\\nfor renaming some imports from a module instead of a full module.\\n\\nFor example:\\n\\n```bash\\n# full module move\\n--replace-import six.moves.queue=queue\\n# specific attribute move\\n--replace-import six.moves=io:StringIO\\n```\\n\\n## Removing obsolete `__future__` imports\\n\\nThe cli provides a few options to help \"burn the bridges\" with old python\\nversions by removing `__future__` imports automatically.  Each option implies\\nall older versions.\\n\\n- `--py22-plus`: `nested_scopes`\\n- `--py23-plus`: `generators`\\n- `--py26-plus`: `with_statement`\\n- `--py3-plus`: `division`, `absolute_import`, `print_function`,\\n  `unicode_literals`\\n- `--py37-plus`: `generator_stop`\\n\\n## Removing / rewriting obsolete `six` imports\\n\\nWith `--py3-plus`, `reorder-python-imports` will also remove / rewrite imports\\nfrom `six`.  Rewrites follow the same rules as\\n[replacing imports](#replacing-imports) above.\\n\\nFor example:\\n\\n```diff\\n+import queue\\n+from io import StringIO\\n+from urllib.parse import quote_plus\\n+\\n import six.moves.urllib.parse\\n-from six.moves import queue\\n-from six.moves import range\\n-from six.moves import StringIO\\n-from six.moves.urllib.parse import quote_plus\\n```\\n\\n## Rewriting mock imports\\n\\nWith `--py3-plus`, `reorder-python-imports` will also rewrite various `mock` imports:\\n\\n```diff\\n-from mock import patch\\n+from unittest.mock import patch\\n```\\n\\n## Rewriting `mypy_extensions` and `typing_extension` imports\\n\\nWith `--py36-plus` and higher, `reorder-python-imports` will also rewrite\\n`mypy_extensions` and `typing_extensions` imports ported to `typing`.\\n\\n```diff\\n-from mypy_extensions import TypedDict\\n+from typing import TypedDict\\n```\\n\\n## Rewriting pep 585 typing imports\\n\\nWith `--py39-plus` and higher, `reorder-python-imports` will replace imports\\nwhich were moved out of the typing module in [pep 585].\\n\\n```diff\\n-from typing import Sequence\\n+from collections.abc import Sequence\\n```\\n\\n[pep 585]: https://www.python.org/dev/peps/pep-0585/\\n\\n\\n',\n",
       " 'description_content_type': 'text/markdown',\n",
       " 'docs_url': None,\n",
       " 'download_url': '',\n",
       " 'downloads': {'last_day': -1, 'last_month': -1, 'last_week': -1},\n",
       " 'home_page': 'https://github.com/asottile/reorder_python_imports',\n",
       " 'keywords': '',\n",
       " 'license': 'MIT',\n",
       " 'maintainer': '',\n",
       " 'maintainer_email': '',\n",
       " 'name': 'reorder-python-imports',\n",
       " 'package_url': 'https://pypi.org/project/reorder-python-imports/',\n",
       " 'platform': None,\n",
       " 'project_url': 'https://pypi.org/project/reorder-python-imports/',\n",
       " 'project_urls': {'Homepage': 'https://github.com/asottile/reorder_python_imports'},\n",
       " 'release_url': 'https://pypi.org/project/reorder-python-imports/3.1.0/',\n",
       " 'requires_dist': ['aspy.refactor-imports (>=2.3.0)'],\n",
       " 'requires_python': '>=3.7',\n",
       " 'summary': 'Tool for reordering python imports',\n",
       " 'version': '3.1.0',\n",
       " 'yanked': False,\n",
       " 'yanked_reason': None}"
      ]
     },
     "execution_count": 16,
     "metadata": {},
     "output_type": "execute_result"
    }
   ],
   "source": [
    "distribution_info = get_distribution_info(base_url, distribution_name)['info']\n",
    "distribution_info"
   ]
  },
  {
   "cell_type": "code",
   "execution_count": 17,
   "id": "9946b9e7-7656-429f-a5d4-30c97ceb8558",
   "metadata": {},
   "outputs": [
    {
     "data": {
      "text/plain": [
       "'https://pypi.org/project/reorder-python-imports/'"
      ]
     },
     "execution_count": 17,
     "metadata": {},
     "output_type": "execute_result"
    }
   ],
   "source": [
    "distribution_url = distribution_info['project_url']\n",
    "distribution_url"
   ]
  },
  {
   "cell_type": "code",
   "execution_count": 18,
   "id": "581878c3-64cb-41db-8462-87a03ea65d83",
   "metadata": {},
   "outputs": [
    {
     "name": "stdout",
     "output_type": "stream",
     "text": [
      "https://pypi.python.org/project/reorder-python_imports -> https://pypi.org/project/reorder-python-imports/\n",
      "https://pypi.python.org/project/reorder.python_imports -> https://pypi.org/project/reorder-python-imports/\n",
      "https://pypi.python.org/project/reorder_python-imports -> https://pypi.org/project/reorder-python-imports/\n",
      "https://pypi.python.org/project/reorder_python.imports -> https://pypi.org/project/reorder-python-imports/\n"
     ]
    }
   ],
   "source": [
    "check_alternative_urls(distribution_name)"
   ]
  },
  {
   "cell_type": "markdown",
   "id": "5c17d292-e583-4142-b019-a4867d9f3177",
   "metadata": {},
   "source": [
    "**Last updated distribution with all punctuation chars**"
   ]
  },
  {
   "cell_type": "code",
   "execution_count": 25,
   "id": "eb151277-05d7-448e-8a35-8fdff9dd6584",
   "metadata": {},
   "outputs": [
    {
     "data": {
      "text/plain": [
       "'carson-tool.create_template'"
      ]
     },
     "execution_count": 25,
     "metadata": {},
     "output_type": "execute_result"
    }
   ],
   "source": [
    "distribution_name = distribution_stats[distribution_stats == distribution_stats.max()].index.item()\n",
    "distribution_name"
   ]
  },
  {
   "cell_type": "code",
   "execution_count": 26,
   "id": "ecac1d11-f8f7-4319-a49e-fb88d9eaf3f7",
   "metadata": {},
   "outputs": [
    {
     "data": {
      "text/plain": [
       "{'author': 'Carson',\n",
       " 'author_email': 'jackparadise520a@gmail.com',\n",
       " 'bugtrack_url': None,\n",
       " 'classifiers': ['Development Status :: 5 - Production/Stable',\n",
       "  'License :: OSI Approved :: Apache Software License',\n",
       "  'Natural Language :: Chinese (Traditional)',\n",
       "  'Natural Language :: English',\n",
       "  'Operating System :: Microsoft',\n",
       "  'Programming Language :: Python :: 3.6',\n",
       "  'Programming Language :: Python :: 3.7',\n",
       "  'Programming Language :: Python :: 3.8',\n",
       "  'Topic :: System :: Filesystems'],\n",
       " 'description': '===================\\nCreate Template\\n===================\\n\\n:Source Code: https://github.com/CarsonSlovoka/carson-tool.create_template/blob/master/Carson/Tool/CreateTemplate/create_template.py\\n:Compatible: Python >3.6\\n:Platform: Windows\\n:License: `Apache 2.0`_\\n:Author Doc: https://carsonslovoka.github.io/CarsonDoc/\\n\\n.. sectnum::\\n\\nFile templates are specifications of the default contents to be generated when creating a new file.\\n\\nThis Script helps you create the template file at the current work directory.\\n\\nJust like PyCharm `File and code templates <https://www.jetbrains.com/help/pycharm/using-file-and-code-templates.html>`_\\n\\nThe only difference is that it supports you using the command line to finished.\\n\\nInstall\\n===============\\n\\n* ``pip install carson-tool.create_template``\\n\\nUSAGE\\n===============\\n\\n- ``create_template.bat [REFERENCE TEMPLATE] [OUTPUT FILE NAME]`` to create template, for example: ``create_template.bat PEP PEP.0484.py``\\n- ``create_template.bat -l *`` to get all available template\\n- ``create_template.bat -o open`` open template directory so that you can put your template file there.\\n\\npositional arguments:\\n  -ref                   reference template\\n  -outfile               output file name\\n\\noptional arguments:\\n  -h, --help            show this help message and exit\\n  --list LIST, -l LIST\\n    example: -l *\\n\\n    description: list current available template. (accept regex)\\n\\n  --option OPTION, -o OPTION\\n        .. csv-table:: Option\\n            :header: Example, Description\\n            :widths: 20, 60\\n\\n            -o open, \"open template directory so that you can put your template file there.\"\\n\\n\\n.. image:: https://github.com/CarsonSlovoka/carson-tool.create_template/blob/master/demo/usage.gif?raw=true\\n    :alt: usage.gif\\n\\n.. _`Apache 2.0`: https://github.com/CarsonSlovoka/carson-tool.create_template/blob/master/LICENSE',\n",
       " 'description_content_type': '',\n",
       " 'docs_url': None,\n",
       " 'download_url': 'https://github.com/CarsonSlovoka/carson-tool.create_template/tarball/v0.0.0',\n",
       " 'downloads': {'last_day': -1, 'last_month': -1, 'last_week': -1},\n",
       " 'home_page': 'https://github.com/CarsonSlovoka/carson-tool.create_template',\n",
       " 'keywords': 'templates',\n",
       " 'license': 'Apache-2.0',\n",
       " 'maintainer': '',\n",
       " 'maintainer_email': '',\n",
       " 'name': 'carson-tool.create_template',\n",
       " 'package_url': 'https://pypi.org/project/carson-tool.create_template/',\n",
       " 'platform': '',\n",
       " 'project_url': 'https://pypi.org/project/carson-tool.create_template/',\n",
       " 'project_urls': {'Download': 'https://github.com/CarsonSlovoka/carson-tool.create_template/tarball/v0.0.0',\n",
       "  'Homepage': 'https://github.com/CarsonSlovoka/carson-tool.create_template'},\n",
       " 'release_url': 'https://pypi.org/project/carson-tool.create_template/0.2.0/',\n",
       " 'requires_dist': None,\n",
       " 'requires_python': '',\n",
       " 'summary': 'File templates are specifications of the default contents to be generated when creating a new file.',\n",
       " 'version': '0.2.0',\n",
       " 'yanked': False,\n",
       " 'yanked_reason': None}"
      ]
     },
     "execution_count": 26,
     "metadata": {},
     "output_type": "execute_result"
    }
   ],
   "source": [
    "distribution_info = get_distribution_info(base_url, distribution_name)['info']\n",
    "distribution_info"
   ]
  },
  {
   "cell_type": "code",
   "execution_count": 27,
   "id": "08219c2a-49fd-458c-8d33-26757c8ee36c",
   "metadata": {},
   "outputs": [
    {
     "data": {
      "text/plain": [
       "'https://pypi.org/project/carson-tool.create_template/'"
      ]
     },
     "execution_count": 27,
     "metadata": {},
     "output_type": "execute_result"
    }
   ],
   "source": [
    "distribution_url = distribution_info['project_url']\n",
    "distribution_url"
   ]
  },
  {
   "cell_type": "code",
   "execution_count": 28,
   "id": "cb922562-5762-419f-a42d-6d15ce904d15",
   "metadata": {},
   "outputs": [
    {
     "name": "stdout",
     "output_type": "stream",
     "text": [
      "https://pypi.python.org/project/carson.tool.create_template -> https://pypi.org/project/carson-tool.create_template/\n",
      "https://pypi.python.org/project/carson_tool.create_template -> https://pypi.org/project/carson-tool.create_template/\n",
      "https://pypi.python.org/project/carson-tool-create_template -> https://pypi.org/project/carson-tool.create_template/\n",
      "https://pypi.python.org/project/carson-tool_create_template -> https://pypi.org/project/carson-tool.create_template/\n",
      "https://pypi.python.org/project/carson-tool.create-template -> https://pypi.org/project/carson-tool.create_template/\n",
      "https://pypi.python.org/project/carson-tool.create.template -> https://pypi.org/project/carson-tool.create_template/\n"
     ]
    }
   ],
   "source": [
    "check_alternative_urls(distribution_name)"
   ]
  }
 ],
 "metadata": {
  "kernelspec": {
   "display_name": "dist-analysis",
   "language": "python",
   "name": "dist-analysis"
  },
  "language_info": {
   "codemirror_mode": {
    "name": "ipython",
    "version": 3
   },
   "file_extension": ".py",
   "mimetype": "text/x-python",
   "name": "python",
   "nbconvert_exporter": "python",
   "pygments_lexer": "ipython3",
   "version": "3.9.7"
  }
 },
 "nbformat": 4,
 "nbformat_minor": 5
}
