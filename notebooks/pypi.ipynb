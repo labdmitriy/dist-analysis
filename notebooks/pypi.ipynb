{
 "cells": [
  {
   "cell_type": "code",
   "execution_count": 1,
   "id": "5cd7f4c6-9b19-4d74-871b-4f8924f226d4",
   "metadata": {},
   "outputs": [],
   "source": [
    "%load_ext autoreload\n",
    "%autoreload 2"
   ]
  },
  {
   "cell_type": "code",
   "execution_count": 2,
   "id": "131a6653-891d-4d9a-884a-42a6cc30f35e",
   "metadata": {},
   "outputs": [],
   "source": [
    "from pathlib import Path\n",
    "import string\n",
    "import time\n",
    "\n",
    "import numpy as np\n",
    "import pandas as pd\n",
    "\n",
    "from dist_analysis.stats import (check_alternative_urls,\n",
    "                                 get_distribution_info,\n",
    "                                 get_distribution_update_stats,\n",
    "                                 get_distributions_list,\n",
    "                                 get_names_stats)\n",
    "from dist_analysis.visualization import plot_names_with_punctuation"
   ]
  },
  {
   "cell_type": "code",
   "execution_count": 3,
   "id": "510a88da-29f2-425e-aae6-ece89a89e465",
   "metadata": {},
   "outputs": [],
   "source": [
    "IMAGE_DATA_PATH = Path('../images')\n",
    "\n",
    "base_url = 'https://pypi.python.org/pypi'"
   ]
  },
  {
   "cell_type": "markdown",
   "id": "ed584043-286e-4cce-8f5a-9b2ed1f5ee9e",
   "metadata": {},
   "source": [
    "### Get list of all packages"
   ]
  },
  {
   "cell_type": "code",
   "execution_count": 4,
   "id": "f3d49b0d-fd08-4cf1-b562-b0d30f13bf99",
   "metadata": {},
   "outputs": [
    {
     "name": "stdout",
     "output_type": "stream",
     "text": [
      "378380\n"
     ]
    }
   ],
   "source": [
    "distributions = get_distributions_list(base_url)\n",
    "distributions_count = len(distributions)\n",
    "print(distributions_count)"
   ]
  },
  {
   "cell_type": "markdown",
   "id": "fd7d5523-00c8-4331-baa7-fcb66297b157",
   "metadata": {},
   "source": [
    "### Find all used chars in distributions names"
   ]
  },
  {
   "cell_type": "code",
   "execution_count": 5,
   "id": "ada99d0b-e6f0-46cb-a4df-f68a7c87623f",
   "metadata": {},
   "outputs": [
    {
     "name": "stdout",
     "output_type": "stream",
     "text": [
      "-.0123456789ABCDEFGHIJKLMNOPQRSTUVWXYZ_abcdefghijklmnopqrstuvwxyz\n"
     ]
    }
   ],
   "source": [
    "name_chars = set(''.join(distributions))\n",
    "print(''.join(sorted(name_chars)))"
   ]
  },
  {
   "cell_type": "markdown",
   "id": "afcf7df7-f554-4139-bd5c-96d4fb754fcf",
   "metadata": {},
   "source": [
    "### Get stats for different package name types"
   ]
  },
  {
   "cell_type": "code",
   "execution_count": 6,
   "id": "f0da322b-b86b-4696-84f0-e91a010da841",
   "metadata": {},
   "outputs": [],
   "source": [
    "no_char = set()\n",
    "hyphen = set('-')\n",
    "underscore = set('_')\n",
    "dot = set('.')\n",
    "punctuation = hyphen | underscore | dot\n",
    "digits = set(string.digits)\n",
    "letters = set(string.ascii_letters)"
   ]
  },
  {
   "cell_type": "markdown",
   "id": "71c22fb1-9c65-4492-9dea-9a802cf24ff5",
   "metadata": {},
   "source": [
    "**Only letters**"
   ]
  },
  {
   "cell_type": "code",
   "execution_count": 7,
   "id": "ab48874e-29b5-4b0c-9d63-06d900872343",
   "metadata": {},
   "outputs": [
    {
     "name": "stdout",
     "output_type": "stream",
     "text": [
      "Possible chars: ABCDEFGHIJKLMNOPQRSTUVWXYZabcdefghijklmnopqrstuvwxyz\n",
      "Required chars: \n",
      "Names count: 178642\n",
      "Names proportion: 0.47212\n",
      "Examples: ['pyinstrument', 'blackhorse', 'WordPressAutoPost', 'gitcidi', 'surelink']\n",
      "\n"
     ]
    }
   ],
   "source": [
    "names_letters = get_names_stats(distributions, letters)"
   ]
  },
  {
   "cell_type": "markdown",
   "id": "72d2366b-8cb1-408b-b6b3-841a98e0c86f",
   "metadata": {},
   "source": [
    "**Only digits**"
   ]
  },
  {
   "cell_type": "code",
   "execution_count": 8,
   "id": "531f7f79-5ff8-448e-b54b-b03dd87c0464",
   "metadata": {},
   "outputs": [
    {
     "name": "stdout",
     "output_type": "stream",
     "text": [
      "Possible chars: 0123456789\n",
      "Required chars: \n",
      "Names count: 40\n",
      "Names proportion: 0.00011\n",
      "Examples: ['31', '2021', '42', '1', '5']\n",
      "\n"
     ]
    }
   ],
   "source": [
    "names_digits = get_names_stats(distributions, digits)"
   ]
  },
  {
   "cell_type": "markdown",
   "id": "ab40c9ff-d798-47c8-9a7f-55ecf7acbe0d",
   "metadata": {},
   "source": [
    "**Only punctuation**"
   ]
  },
  {
   "cell_type": "code",
   "execution_count": 9,
   "id": "75abe574-105b-4219-b820-355dc509823f",
   "metadata": {},
   "outputs": [
    {
     "name": "stdout",
     "output_type": "stream",
     "text": [
      "Possible chars: -._\n",
      "Required chars: \n",
      "Names count: 0\n",
      "Names proportion: 0.00000\n",
      "\n"
     ]
    }
   ],
   "source": [
    "names_punctuation = get_names_stats(distributions, punctuation)"
   ]
  },
  {
   "cell_type": "markdown",
   "id": "c3d52f51-d15e-47ed-92e8-757f201fe032",
   "metadata": {},
   "source": [
    "**Letters and digits**"
   ]
  },
  {
   "cell_type": "code",
   "execution_count": 10,
   "id": "82bd75cd-f888-4093-849d-9821e2465f63",
   "metadata": {},
   "outputs": [
    {
     "name": "stdout",
     "output_type": "stream",
     "text": [
      "Possible chars: 0123456789ABCDEFGHIJKLMNOPQRSTUVWXYZabcdefghijklmnopqrstuvwxyz\n",
      "Required chars: \n",
      "Names count: 192850\n",
      "Names proportion: 0.50967\n",
      "Examples: ['vote4film', 'chd', 'irate', 'queryswap', 'referredby']\n",
      "\n"
     ]
    }
   ],
   "source": [
    "letters_digits = letters | digits\n",
    "names_letters_digits = get_names_stats(distributions, letters_digits)"
   ]
  },
  {
   "cell_type": "markdown",
   "id": "0ae20dc2-cea8-4bf4-a674-332c20ddca0b",
   "metadata": {},
   "source": [
    "**Letters and punctuation**"
   ]
  },
  {
   "cell_type": "code",
   "execution_count": 11,
   "id": "272ab037-b50b-4106-9b45-995edaa1b1ed",
   "metadata": {},
   "outputs": [
    {
     "name": "stdout",
     "output_type": "stream",
     "text": [
      "Possible chars: -.ABCDEFGHIJKLMNOPQRSTUVWXYZ_abcdefghijklmnopqrstuvwxyz\n",
      "Required chars: \n",
      "Names count: 336830\n",
      "Names proportion: 0.89019\n",
      "Examples: ['drake', 'ADLStream', 'pylibimport', 'tendril-utils-types', 'gFunctionLibrary']\n",
      "\n"
     ]
    }
   ],
   "source": [
    "letters_punctuation = letters | punctuation\n",
    "names_letters_punctuation = get_names_stats(distributions, letters_punctuation)"
   ]
  },
  {
   "cell_type": "markdown",
   "id": "4125e001-029b-483e-bef7-c95620384f61",
   "metadata": {},
   "source": [
    "**With hyphens**"
   ]
  },
  {
   "cell_type": "code",
   "execution_count": 12,
   "id": "b5e8122f-e4ae-4481-88df-987d8be9e114",
   "metadata": {},
   "outputs": [
    {
     "name": "stdout",
     "output_type": "stream",
     "text": [
      "Possible chars: -.0123456789ABCDEFGHIJKLMNOPQRSTUVWXYZ_abcdefghijklmnopqrstuvwxyz\n",
      "Required chars: -\n",
      "Names count: 163013\n",
      "Names proportion: 0.43082\n",
      "Examples: ['bot-kit', 'leabra-psyneulink', 'scrapy-bigquery', 'python-devlog', 'odoo10-addon-pos-remove-pos-category']\n",
      "\n"
     ]
    }
   ],
   "source": [
    "names_with_hyphens = get_names_stats(distributions, name_chars, required_chars=hyphen)"
   ]
  },
  {
   "cell_type": "markdown",
   "id": "cae8f9af-1db9-47bf-97af-eae63e49e2af",
   "metadata": {},
   "source": [
    "**With underscores**"
   ]
  },
  {
   "cell_type": "code",
   "execution_count": 13,
   "id": "f46e9384-2d2a-4657-a7a6-b17e4d5aacfe",
   "metadata": {},
   "outputs": [
    {
     "name": "stdout",
     "output_type": "stream",
     "text": [
      "Possible chars: -.0123456789ABCDEFGHIJKLMNOPQRSTUVWXYZ_abcdefghijklmnopqrstuvwxyz\n",
      "Required chars: _\n",
      "Names count: 11203\n",
      "Names proportion: 0.02961\n",
      "Examples: ['bootstrap_admin_legacy', 'demo_pkg_lfr', 'nest_pf', 'xmldict_translate', 'js.jquery_formwizard']\n",
      "\n"
     ]
    }
   ],
   "source": [
    "names_with_underscores = get_names_stats(distributions, name_chars, required_chars=underscore)"
   ]
  },
  {
   "cell_type": "markdown",
   "id": "f9a33fcd-639b-442e-898d-271026021620",
   "metadata": {},
   "source": [
    "**With dots**"
   ]
  },
  {
   "cell_type": "code",
   "execution_count": 14,
   "id": "293a4d22-9c4a-4069-91eb-343f79e71a38",
   "metadata": {},
   "outputs": [
    {
     "name": "stdout",
     "output_type": "stream",
     "text": [
      "Possible chars: -.0123456789ABCDEFGHIJKLMNOPQRSTUVWXYZ_abcdefghijklmnopqrstuvwxyz\n",
      "Required chars: .\n",
      "Names count: 13719\n",
      "Names proportion: 0.03626\n",
      "Examples: ['kss.django', 'cloudsnorkel.cdk-github-runners', 'mpdg.govbr.observatorio', 'aw.managersmanager', 'huscy.data-protection']\n",
      "\n"
     ]
    }
   ],
   "source": [
    "names_with_dots = get_names_stats(distributions, name_chars, required_chars=dot)"
   ]
  },
  {
   "cell_type": "markdown",
   "id": "431db409-dc94-466d-abae-88a3b85d69c1",
   "metadata": {},
   "source": [
    "**With only hyphens**"
   ]
  },
  {
   "cell_type": "code",
   "execution_count": 15,
   "id": "aa0b928e-acbb-4ccb-97cf-3a8a9e739a9f",
   "metadata": {},
   "outputs": [
    {
     "name": "stdout",
     "output_type": "stream",
     "text": [
      "Possible chars: -0123456789ABCDEFGHIJKLMNOPQRSTUVWXYZabcdefghijklmnopqrstuvwxyz\n",
      "Required chars: -\n",
      "Names count: 161001\n",
      "Names proportion: 0.42550\n",
      "Examples: ['fake-ssh', 'requests-async-session', 'neocrym-sphinx-theme', 'skyline-log', 'send-2-kindle']\n",
      "\n"
     ]
    }
   ],
   "source": [
    "names_with_only_hyphens = get_names_stats(distributions, letters_digits | hyphen, \n",
    "                                          required_chars=hyphen)"
   ]
  },
  {
   "cell_type": "markdown",
   "id": "69982139-8b0e-43b6-81be-b3e3a8a32492",
   "metadata": {},
   "source": [
    "**With only underscores**"
   ]
  },
  {
   "cell_type": "code",
   "execution_count": 16,
   "id": "ae55408f-d8f5-42ec-9e87-51bf0ba878c4",
   "metadata": {},
   "outputs": [
    {
     "name": "stdout",
     "output_type": "stream",
     "text": [
      "Possible chars: 0123456789ABCDEFGHIJKLMNOPQRSTUVWXYZ_abcdefghijklmnopqrstuvwxyz\n",
      "Required chars: _\n",
      "Names count: 10650\n",
      "Names proportion: 0.02815\n",
      "Examples: ['nextcloud_news_updater', 'nose_priority', 'dms_tools', 'responses_proxy', 'test_python_package']\n",
      "\n"
     ]
    }
   ],
   "source": [
    "names_with_only_underscores = get_names_stats(distributions, letters_digits | underscore, \n",
    "                                              required_chars=underscore)"
   ]
  },
  {
   "cell_type": "markdown",
   "id": "9c5faa89-ff5c-48da-8ff5-d6bc5e0d4982",
   "metadata": {},
   "source": [
    "**With only dots**"
   ]
  },
  {
   "cell_type": "code",
   "execution_count": 17,
   "id": "ff344775-0ffb-469d-955f-ee732063912e",
   "metadata": {},
   "outputs": [
    {
     "name": "stdout",
     "output_type": "stream",
     "text": [
      "Possible chars: .0123456789ABCDEFGHIJKLMNOPQRSTUVWXYZabcdefghijklmnopqrstuvwxyz\n",
      "Required chars: .\n",
      "Names count: 11487\n",
      "Names proportion: 0.03036\n",
      "Examples: ['plone.introspector', 'RBX.py', 'danse.ins', 'Products.MegamanicEditContentTypes', 'imio.email.parser']\n",
      "\n"
     ]
    }
   ],
   "source": [
    "names_with_only_dots = get_names_stats(distributions, letters_digits | dot, \n",
    "                                       required_chars=dot)"
   ]
  },
  {
   "cell_type": "markdown",
   "id": "879ea0d4-c529-4961-bd9d-171e7ef69735",
   "metadata": {},
   "source": [
    "**With all punctuation**"
   ]
  },
  {
   "cell_type": "code",
   "execution_count": 18,
   "id": "9a2bbc0f-543f-45d4-bfd5-ab583ea6fc4a",
   "metadata": {},
   "outputs": [
    {
     "name": "stdout",
     "output_type": "stream",
     "text": [
      "Possible chars: -.0123456789ABCDEFGHIJKLMNOPQRSTUVWXYZ_abcdefghijklmnopqrstuvwxyz\n",
      "Required chars: -._\n",
      "Names count: 13\n",
      "Names proportion: 0.00003\n",
      "Examples: ['vision_utils-0.1.1', '0-._.-._.-._.-._.-._.-._.-0', 'sloth-ci.ext.docker_exec', 'repoze.who-use_beaker', 'sloth-ci.ext.shields_io']\n",
      "\n"
     ]
    }
   ],
   "source": [
    "names_with_all_punctuation = get_names_stats(distributions, letters_digits | punctuation, \n",
    "                                             required_chars=punctuation)"
   ]
  },
  {
   "cell_type": "code",
   "execution_count": 19,
   "id": "91ba685f-9553-4ee1-b705-528985f04eaa",
   "metadata": {},
   "outputs": [
    {
     "data": {
      "text/plain": [
       "['sloth-ci.ext.docker_exec',\n",
       " '0-._.-._.-._.-._.-._.-._.-0',\n",
       " 'Dragon_Module.pre-Alpha',\n",
       " 'sloth-ci.ext.shields_io',\n",
       " 'repoze.who-use_beaker',\n",
       " 'sloth-ci.ext.file_logs',\n",
       " 'sloth-ci.ext.ssh_exec',\n",
       " 'motmot.realtime_image_analysis-ipp',\n",
       " 'sloth-ci.ext.build_email_notifications',\n",
       " 'sloth-ci.ext.openvz_exec',\n",
       " 'vision_utils-0.1.1',\n",
       " 'sloth-ci.ext.robots_txt',\n",
       " 'carson-tool.create_template']"
      ]
     },
     "execution_count": 19,
     "metadata": {},
     "output_type": "execute_result"
    }
   ],
   "source": [
    "names_with_all_punctuation"
   ]
  },
  {
   "cell_type": "markdown",
   "id": "17c42f2e-3d55-4d51-8930-ff2c18b8b44c",
   "metadata": {},
   "source": [
    "### Get package update statistics"
   ]
  },
  {
   "cell_type": "code",
   "execution_count": 20,
   "id": "f9b5b951-8b45-4cd5-bcce-547e65237b6f",
   "metadata": {},
   "outputs": [
    {
     "name": "stderr",
     "output_type": "stream",
     "text": [
      "100%|███████████████████████████████████████████| 13/13 [00:03<00:00,  3.26it/s]\n"
     ]
    },
    {
     "data": {
      "text/plain": [
       "(11, 2)"
      ]
     },
     "execution_count": 20,
     "metadata": {},
     "output_type": "execute_result"
    }
   ],
   "source": [
    "distribution_update_stats, incorrect_distributions = get_distribution_update_stats(base_url, names_with_all_punctuation)\n",
    "len(distribution_update_stats), len(incorrect_distributions)"
   ]
  },
  {
   "cell_type": "code",
   "execution_count": 21,
   "id": "c289c5b8-ddec-4a4f-a575-dba2af62e551",
   "metadata": {},
   "outputs": [
    {
     "data": {
      "text/plain": [
       "repoze.who-use_beaker                    2009-12-08 15:36:32.669153+00:00\n",
       "motmot.realtime_image_analysis-ipp       2012-06-01 10:43:23.315136+00:00\n",
       "sloth-ci.ext.docker_exec                 2016-02-21 14:10:14.466712+00:00\n",
       "sloth-ci.ext.file_logs                   2016-02-21 14:11:41.123975+00:00\n",
       "sloth-ci.ext.openvz_exec                 2016-02-21 14:12:56.365206+00:00\n",
       "sloth-ci.ext.robots_txt                  2016-02-21 14:13:20.135383+00:00\n",
       "sloth-ci.ext.ssh_exec                    2016-02-21 14:13:52.543088+00:00\n",
       "sloth-ci.ext.shields_io                  2016-03-17 11:10:23.393115+00:00\n",
       "sloth-ci.ext.build_email_notifications   2016-03-18 23:17:22.851842+00:00\n",
       "vision_utils-0.1.1                       2019-05-08 19:25:20.515623+00:00\n",
       "carson-tool.create_template              2019-10-29 10:46:27.996564+00:00\n",
       "dtype: datetime64[ns, tzutc()]"
      ]
     },
     "execution_count": 21,
     "metadata": {},
     "output_type": "execute_result"
    }
   ],
   "source": [
    "distribution_stats = pd.Series(distribution_update_stats)\n",
    "distribution_stats.sort_values()"
   ]
  },
  {
   "cell_type": "code",
   "execution_count": 22,
   "id": "c8620f0b-7c72-41eb-81c6-2b7564c0bed1",
   "metadata": {},
   "outputs": [
    {
     "data": {
      "text/plain": [
       "{'0-._.-._.-._.-._.-._.-._.-0': IndexError('list index out of range'),\n",
       " 'Dragon_Module.pre-Alpha': requests.exceptions.HTTPError('404 Client Error: Not Found for url: https://pypi.org/pypi/Dragon_Module.pre-Alpha/json')}"
      ]
     },
     "execution_count": 22,
     "metadata": {},
     "output_type": "execute_result"
    }
   ],
   "source": [
    "incorrect_distributions"
   ]
  },
  {
   "cell_type": "markdown",
   "id": "3c649b4b-ecbd-40b1-8b0a-5f282e3ac483",
   "metadata": {},
   "source": [
    "### Check URL variants"
   ]
  },
  {
   "cell_type": "code",
   "execution_count": 23,
   "id": "eb151277-05d7-448e-8a35-8fdff9dd6584",
   "metadata": {},
   "outputs": [
    {
     "data": {
      "text/plain": [
       "'carson-tool.create_template'"
      ]
     },
     "execution_count": 23,
     "metadata": {},
     "output_type": "execute_result"
    }
   ],
   "source": [
    "distribution_name = distribution_stats[distribution_stats == distribution_stats.max()].index.item()\n",
    "distribution_name"
   ]
  },
  {
   "cell_type": "code",
   "execution_count": 24,
   "id": "ecac1d11-f8f7-4319-a49e-fb88d9eaf3f7",
   "metadata": {},
   "outputs": [
    {
     "data": {
      "text/plain": [
       "{'author': 'Carson',\n",
       " 'author_email': 'jackparadise520a@gmail.com',\n",
       " 'bugtrack_url': None,\n",
       " 'classifiers': ['Development Status :: 5 - Production/Stable',\n",
       "  'License :: OSI Approved :: Apache Software License',\n",
       "  'Natural Language :: Chinese (Traditional)',\n",
       "  'Natural Language :: English',\n",
       "  'Operating System :: Microsoft',\n",
       "  'Programming Language :: Python :: 3.6',\n",
       "  'Programming Language :: Python :: 3.7',\n",
       "  'Programming Language :: Python :: 3.8',\n",
       "  'Topic :: System :: Filesystems'],\n",
       " 'description': '===================\\nCreate Template\\n===================\\n\\n:Source Code: https://github.com/CarsonSlovoka/carson-tool.create_template/blob/master/Carson/Tool/CreateTemplate/create_template.py\\n:Compatible: Python >3.6\\n:Platform: Windows\\n:License: `Apache 2.0`_\\n:Author Doc: https://carsonslovoka.github.io/CarsonDoc/\\n\\n.. sectnum::\\n\\nFile templates are specifications of the default contents to be generated when creating a new file.\\n\\nThis Script helps you create the template file at the current work directory.\\n\\nJust like PyCharm `File and code templates <https://www.jetbrains.com/help/pycharm/using-file-and-code-templates.html>`_\\n\\nThe only difference is that it supports you using the command line to finished.\\n\\nInstall\\n===============\\n\\n* ``pip install carson-tool.create_template``\\n\\nUSAGE\\n===============\\n\\n- ``create_template.bat [REFERENCE TEMPLATE] [OUTPUT FILE NAME]`` to create template, for example: ``create_template.bat PEP PEP.0484.py``\\n- ``create_template.bat -l *`` to get all available template\\n- ``create_template.bat -o open`` open template directory so that you can put your template file there.\\n\\npositional arguments:\\n  -ref                   reference template\\n  -outfile               output file name\\n\\noptional arguments:\\n  -h, --help            show this help message and exit\\n  --list LIST, -l LIST\\n    example: -l *\\n\\n    description: list current available template. (accept regex)\\n\\n  --option OPTION, -o OPTION\\n        .. csv-table:: Option\\n            :header: Example, Description\\n            :widths: 20, 60\\n\\n            -o open, \"open template directory so that you can put your template file there.\"\\n\\n\\n.. image:: https://github.com/CarsonSlovoka/carson-tool.create_template/blob/master/demo/usage.gif?raw=true\\n    :alt: usage.gif\\n\\n.. _`Apache 2.0`: https://github.com/CarsonSlovoka/carson-tool.create_template/blob/master/LICENSE',\n",
       " 'description_content_type': '',\n",
       " 'docs_url': None,\n",
       " 'download_url': 'https://github.com/CarsonSlovoka/carson-tool.create_template/tarball/v0.0.0',\n",
       " 'downloads': {'last_day': -1, 'last_month': -1, 'last_week': -1},\n",
       " 'home_page': 'https://github.com/CarsonSlovoka/carson-tool.create_template',\n",
       " 'keywords': 'templates',\n",
       " 'license': 'Apache-2.0',\n",
       " 'maintainer': '',\n",
       " 'maintainer_email': '',\n",
       " 'name': 'carson-tool.create_template',\n",
       " 'package_url': 'https://pypi.org/project/carson-tool.create_template/',\n",
       " 'platform': '',\n",
       " 'project_url': 'https://pypi.org/project/carson-tool.create_template/',\n",
       " 'project_urls': {'Download': 'https://github.com/CarsonSlovoka/carson-tool.create_template/tarball/v0.0.0',\n",
       "  'Homepage': 'https://github.com/CarsonSlovoka/carson-tool.create_template'},\n",
       " 'release_url': 'https://pypi.org/project/carson-tool.create_template/0.2.0/',\n",
       " 'requires_dist': None,\n",
       " 'requires_python': '',\n",
       " 'summary': 'File templates are specifications of the default contents to be generated when creating a new file.',\n",
       " 'version': '0.2.0',\n",
       " 'yanked': False,\n",
       " 'yanked_reason': None}"
      ]
     },
     "execution_count": 24,
     "metadata": {},
     "output_type": "execute_result"
    }
   ],
   "source": [
    "distribution_info = get_distribution_info(base_url, distribution_name)['info']\n",
    "distribution_info"
   ]
  },
  {
   "cell_type": "code",
   "execution_count": 25,
   "id": "08219c2a-49fd-458c-8d33-26757c8ee36c",
   "metadata": {},
   "outputs": [
    {
     "data": {
      "text/plain": [
       "'https://pypi.org/project/carson-tool.create_template/'"
      ]
     },
     "execution_count": 25,
     "metadata": {},
     "output_type": "execute_result"
    }
   ],
   "source": [
    "distribution_url = distribution_info['project_url']\n",
    "distribution_url"
   ]
  },
  {
   "cell_type": "code",
   "execution_count": 26,
   "id": "cb922562-5762-419f-a42d-6d15ce904d15",
   "metadata": {},
   "outputs": [
    {
     "name": "stdout",
     "output_type": "stream",
     "text": [
      "https://pypi.python.org/project/carson.tool.create_template -> https://pypi.org/project/carson-tool.create_template/\n",
      "https://pypi.python.org/project/carson_tool.create_template -> https://pypi.org/project/carson-tool.create_template/\n",
      "https://pypi.python.org/project/carson-tool-create_template -> https://pypi.org/project/carson-tool.create_template/\n",
      "https://pypi.python.org/project/carson-tool_create_template -> https://pypi.org/project/carson-tool.create_template/\n",
      "https://pypi.python.org/project/carson-tool.create-template -> https://pypi.org/project/carson-tool.create_template/\n",
      "https://pypi.python.org/project/carson-tool.create.template -> https://pypi.org/project/carson-tool.create_template/\n"
     ]
    }
   ],
   "source": [
    "check_alternative_urls(distribution_name)"
   ]
  },
  {
   "cell_type": "markdown",
   "id": "981f6ee4-85f9-43d2-8309-08ff6bbeb319",
   "metadata": {},
   "source": [
    "### Visualize Python distribution names with punctuation"
   ]
  },
  {
   "cell_type": "code",
   "execution_count": 27,
   "id": "14c185b9-e27d-440b-ae79-7af852ea6289",
   "metadata": {},
   "outputs": [
    {
     "data": {
      "image/png": "[encoded data removed]",
      "text/plain": [
       "<Figure size 1008x1008 with 1 Axes>"
      ]
     },
     "metadata": {},
     "output_type": "display_data"
    }
   ],
   "source": [
    "diagram_file_path = IMAGE_DATA_PATH / 'names_with_punctuation.png' \n",
    "\n",
    "plot_names_with_punctuation(names_with_hyphens, names_with_underscores, names_with_dots,\n",
    "                            image_file_path=diagram_file_path)"
   ]
  }
 ],
 "metadata": {
  "kernelspec": {
   "display_name": "dist-analysis",
   "language": "python",
   "name": "dist-analysis"
  },
  "language_info": {
   "codemirror_mode": {
    "name": "ipython",
    "version": 3
   },
   "file_extension": ".py",
   "mimetype": "text/x-python",
   "name": "python",
   "nbconvert_exporter": "python",
   "pygments_lexer": "ipython3",
   "version": "3.9.7"
  }
 },
 "nbformat": 4,
 "nbformat_minor": 5
}
